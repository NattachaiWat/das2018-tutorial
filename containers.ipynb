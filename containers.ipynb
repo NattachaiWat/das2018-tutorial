{
 "cells": [
  {
   "cell_type": "markdown",
   "metadata": {
    "slideshow": {
     "slide_type": "slide"
    }
   },
   "source": [
    "# `ocropus3-docker`\n",
    "\n",
    "The `ocropus3-docker` repository builds a Docker container that you can use to run OCRopus3 on any platform.\n",
    "\n",
    "- `./build` -- build the container\n",
    "- './ocropy' -- run the container\n",
    "\n",
    "The container automatically starts a VNC server for graphical output. Inside the container is a complete OCRopus3 installation."
   ]
  },
  {
   "cell_type": "code",
   "execution_count": 11,
   "metadata": {
    "slideshow": {
     "slide_type": "slide"
    }
   },
   "outputs": [
    {
     "name": "stdout",
     "output_type": "stream",
     "text": [
      "+ ocroseg-train -d http://storage.googleapis.com/lpr-ocr/uw3-framed-lines.tgz\n",
      "raw sample:\n",
      "__key__ 'A001BIN'\n",
      "__source__ 'http://storage.googleapis.com/lpr-ocr/uw3-framed-lines.tgz'\n",
      "lines.png float32 (3300, 2592)\n",
      "png float32 (3300, 2592)\n",
      "\n",
      "preprocessed sample:\n",
      "__key__ <type 'list'> ['A00ABIN']\n",
      "__source__ <type 'list'> ['http://storage.googleapis.com/lpr-ocr/uw3-framed-lines.tgz\n",
      "input float32 (1, 3300, 2592, 1)\n",
      "mask float32 (1, 3300, 2592, 1)\n",
      "output float32 (1, 3300, 2592, 1)\n",
      "\n",
      "ntrain 0\n",
      "model:\n",
      "Sequential(\n",
      "  (0): Conv2d(1, 10, kernel_size=(3, 3), stride=(1, 1), padding=(1, 1))\n",
      "  (1): BatchNorm2d(10, eps=1e-05, momentum=0.1, affine=True)\n",
      "  (2): ReLU()\n",
      "  (3): MaxPool2d(kernel_size=(2, 2), stride=(2, 2), dilation=(1, 1), ceil_mode=False)\n",
      "  (4): Conv2d(10, 20, kernel_size=(3, 3), stride=(1, 1), padding=(1, 1))\n",
      "  (5): BatchNorm2d(20, eps=1e-05, momentum=0.1, affine=True)\n",
      "  (6): ReLU()\n",
      "  (7): MaxPool2d(kernel_size=(2, 2), stride=(2, 2), dilation=(1, 1), ceil_mode=False)\n",
      "  (8): Conv2d(20, 40, kernel_size=(3, 3), stride=(1, 1), padding=(1, 1))\n",
      "  (9): BatchNorm2d(40, eps=1e-05, momentum=0.1, affine=True)\n",
      "  (10): ReLU()\n",
      "  (11): LSTM2(\n",
      "    (hlstm): RowwiseLSTM(\n",
      "      (lstm): LSTM(40, 20, bidirectional=1)\n",
      "    )\n",
      "    (vlstm): RowwiseLSTM(\n",
      "      (lstm): LSTM(40, 20, bidirectional=1)\n",
      "    )\n",
      "  )\n",
      "  (12): Conv2d(40, 20, kernel_size=(1, 1), stride=(1, 1))\n",
      "  (13): BatchNorm2d(20, eps=1e-05, momentum=0.1, affine=True)\n",
      "  (14): ReLU()\n",
      "  (15): LSTM2(\n",
      "    (hlstm): RowwiseLSTM(\n",
      "      (lstm): LSTM(20, 20, bidirectional=1)\n",
      "    )\n",
      "    (vlstm): RowwiseLSTM(\n",
      "      (lstm): LSTM(40, 20, bidirectional=1)\n",
      "    )\n",
      "  )\n",
      "  (16): Conv2d(40, 1, kernel_size=(1, 1), stride=(1, 1))\n",
      "  (17): Sigmoid()\n",
      ")\n",
      "\n",
      "0 0 ['A004BIN'] 0.25800136 ['A004BIN'] 0.5009479 0.528619 lr 0.03\n",
      "QStandardPaths: XDG_RUNTIME_DIR not set, defaulting to '/tmp/runtime-user'\n",
      "Qt: XKEYBOARD extension not present on the X server.\n",
      "1 1 ['A00HBIN'] 0.25519305 ['A00HBIN'] 0.49912837 0.5319716 lr 0.03\n",
      "2 2 ['A00FBIN'] 0.25293857 ['A00FBIN'] 0.49713168 0.5308574 lr 0.03\n",
      "3 3 ['A003BIN'] 0.25010628 ['A003BIN'] 0.4939516 0.52402085 lr 0.03\n",
      "4 4 ['A00LBIN'] 0.24856298 ['A00LBIN'] 0.49172512 0.51568764 lr 0.03\n",
      "5 5 ['A00IBIN'] 0.24500012 ['A00IBIN'] 0.48878402 0.5224967 lr 0.03\n",
      "6 6 ['A00OBIN'] 0.24413899 ['A00OBIN'] 0.4851717 0.5086808 lr 0.03\n",
      "7 7 ['A002BIN'] 0.24056704 ['A002BIN'] 0.48072737 0.5245607 lr 0.03\n",
      "8 8 ['A009BIN'] 0.23804292 ['A009BIN'] 0.4815577 0.50954586 lr 0.03\n",
      "9 9 ['A00BBIN'] 0.23808347 ['A00BBIN'] 0.4772586 0.4996858 lr 0.03\n",
      "^C\n",
      "Traceback (most recent call last):\n",
      "  File \"/opt/conda/bin/ocroseg-train\", line 269, in <module>\n",
      "    loss, output = train_batch(model, image, target, mask, lr)\n",
      "  File \"/opt/conda/bin/ocroseg-train\", line 235, in train_batch\n",
      "    return loss.data.cpu().numpy()[0], helpers.asnd(cuoutput).transpose(0, 2, 3, 1)\n",
      "  File \"/opt/conda/lib/python2.7/site-packages/torch/tensor.py\", line 45, in cpu\n",
      "    return self.type(getattr(torch, self.__class__.__name__))\n",
      "  File \"/opt/conda/lib/python2.7/site-packages/torch/cuda/__init__.py\", line 396, in type\n",
      "    return super(_CudaBase, self).type(*args, **kwargs)\n",
      "  File \"/opt/conda/lib/python2.7/site-packages/torch/_utils.py\", line 38, in _type\n",
      "    return new_type(self.size()).copy_(self, async)\n",
      "KeyboardInterrupt\n"
     ]
    }
   ],
   "source": [
    "!./ocropy ocroseg-train -d http://storage.googleapis.com/lpr-ocr/uw3-framed-lines.tgz"
   ]
  },
  {
   "cell_type": "code",
   "execution_count": 12,
   "metadata": {
    "slideshow": {
     "slide_type": "slide"
    }
   },
   "outputs": [
    {
     "name": "stdout",
     "output_type": "stream",
     "text": [
      "FROM nvidia/cuda:9.0-base\r\n",
      "#FROM nvidia/cuda:9.1-base\r\n",
      "#FROM nvidia/cuda:9.2-devel-ubuntu18.04\r\n",
      "MAINTAINER Tom Breuel <tmbdev@gmail.com>\r\n",
      "\r\n",
      "ENV DEBIAN_FRONTEND noninteractive\r\n",
      "ENV DEBCONF_NONINTERACTIVE_SEEN true\r\n",
      "\r\n",
      "RUN apt-get -y update\r\n",
      "\r\n",
      "...\r\n",
      "ADD scripts/* /usr/local/bin/\r\n",
      "\r\n",
      "RUN true \\\r\n",
      "    && echo \". /opt/conda/etc/profile.d/conda.sh\" >> $HOME/.bashrc \\\r\n",
      "    && echo \"conda activate base\" >> $HOME/.bashrc \\\r\n",
      "    && chown -R $USER.$USER $HOME\r\n",
      "RUN echo 'user ALL=(ALL:ALL) NOPASSWD:ALL' >> /etc/sudoers\r\n",
      "\r\n",
      "USER $UID\r\n",
      "ENTRYPOINT [\"runcmd\"]\r\n"
     ]
    }
   ],
   "source": [
    "!head Dockerfile; echo ...; tail Dockerfile"
   ]
  },
  {
   "cell_type": "markdown",
   "metadata": {
    "slideshow": {
     "slide_type": "slide"
    }
   },
   "source": [
    "# Kubernetes"
   ]
  },
  {
   "cell_type": "markdown",
   "metadata": {
    "slideshow": {
     "slide_type": "slide"
    }
   },
   "source": [
    "To run `ocropus3` on Kubernetes, you need to do the following:\n",
    "\n",
    "- log into Google, set up Config.sh according to your project\n",
    "- start up a Kubernetes cluster (`ku init`)\n",
    "- submit your training job(s) (`kubectl apply -f ocroline-train.yaml`)"
   ]
  },
  {
   "cell_type": "markdown",
   "metadata": {
    "slideshow": {
     "slide_type": "slide"
    }
   },
   "source": [
    "On GKE (Google Kubernetes Engine), you...\n",
    "\n",
    "- write a job description in a YAML file\n",
    "- use gs:// or http://storage.googleapis.com for your input shards\n",
    "- save your models periodically to a Google storage bucket"
   ]
  },
  {
   "cell_type": "code",
   "execution_count": 1,
   "metadata": {
    "slideshow": {
     "slide_type": "slide"
    }
   },
   "outputs": [
    {
     "name": "stdout",
     "output_type": "stream",
     "text": [
      "cluster=tmblearn\r\n",
      "zone=us-central1-f\r\n",
      "project=research-191823\r\n",
      "image=gcr.io/$project/ocropy\r\n",
      "cpu_machine=n1-standard-8\r\n",
      "cpu_nodes=3\r\n",
      "gpu_machine=n1-standard-16\r\n",
      "gpu_nodes=2\r\n"
     ]
    }
   ],
   "source": [
    "!cat Config.sh"
   ]
  },
  {
   "cell_type": "code",
   "execution_count": 3,
   "metadata": {
    "slideshow": {
     "slide_type": "slide"
    }
   },
   "outputs": [
    {
     "name": "stdout",
     "output_type": "stream",
     "text": [
      "init -- initialize the cluster\r\n",
      "daemonset -- start the NVIDIA daemonset\r\n",
      "status -- cluster status\r\n",
      "pods -- node list\r\n",
      "stats -- node stats\r\n",
      "build -- build the cloud image\r\n",
      "kill -- kill the cluster\r\n",
      "connect -- connect to a cluster\r\n",
      "forward -- connect to a cluster\r\n",
      "help -- display this help\r\n"
     ]
    }
   ],
   "source": [
    "!ku help"
   ]
  },
  {
   "cell_type": "code",
   "execution_count": 4,
   "metadata": {
    "slideshow": {
     "slide_type": "slide"
    }
   },
   "outputs": [
    {
     "name": "stdout",
     "output_type": "stream",
     "text": [
      "NAME      LOCATION       MASTER_VERSION  MASTER_IP       MACHINE_TYPE   NODE_VERSION  NUM_NODES  STATUS\n",
      "tmblearn  us-central1-f  1.9.7-gke.1     104.198.252.27  n1-standard-8  1.9.7-gke.1   5          RUNNING\n",
      "NAME          MACHINE_TYPE    DISK_SIZE_GB  NODE_VERSION\n",
      "default-pool  n1-standard-8   100           1.9.7-gke.1\n",
      "p100          n1-standard-16  100           1.9.7-gke.1\n"
     ]
    }
   ],
   "source": [
    "!ku status"
   ]
  },
  {
   "cell_type": "code",
   "execution_count": 5,
   "metadata": {
    "slideshow": {
     "slide_type": "slide"
    }
   },
   "outputs": [
    {
     "name": "stdout",
     "output_type": "stream",
     "text": [
      "NAME      LOCATION       MASTER_VERSION  MASTER_IP       MACHINE_TYPE   NODE_VERSION  NUM_NODES  STATUS\n",
      "tmblearn  us-central1-f  1.9.7-gke.1     104.198.252.27  n1-standard-8  1.9.7-gke.1   5          RUNNING\n",
      "\n",
      "NAME         TYPE        CLUSTER-IP    EXTERNAL-IP   PORT(S)   AGE\n",
      "kubernetes   ClusterIP   10.27.240.1   <none>        443/TCP   1d\n",
      "\n",
      "      1 ocroline-train Running\n",
      "      1 ocroseg-train Running\n"
     ]
    }
   ],
   "source": [
    "!ku stats"
   ]
  },
  {
   "cell_type": "code",
   "execution_count": 8,
   "metadata": {
    "slideshow": {
     "slide_type": "slide"
    }
   },
   "outputs": [
    {
     "name": "stdout",
     "output_type": "stream",
     "text": [
      "apiVersion: batch/v1\r\n",
      "kind: Job\r\n",
      "metadata:\r\n",
      "  name: ocroseg-train\r\n",
      "spec:\r\n",
      "  template:\r\n",
      "    spec:\r\n",
      "      containers:\r\n",
      "      - name: ocroseg-train\r\n",
      "        image: gcr.io/research-191823/ocropy\r\n",
      "        workingDir: \"/tmp\"\r\n",
      "        command: [\"/usr/local/bin/runcmd\"]\r\n",
      "        args:\r\n",
      "        - ocroseg-train\r\n",
      "        - \"-d\"\r\n",
      "        - \"http://storage.googleapis.com/lpr-ocr/uw3-framed-lines.tgz\"\r\n",
      "        - \"-o\"\r\n",
      "        - \"ocroseg\"\r\n",
      "        resources:\r\n",
      "          requests:\r\n",
      "          limits:\r\n",
      "            nvidia.com/gpu: \"1\"\r\n",
      "            cpu: 12\r\n",
      "            memory: \"48000Mi\"\r\n",
      "      nodeSelector:\r\n",
      "        cloud.google.com/gke-accelerator: nvidia-tesla-p100\r\n",
      "      restartPolicy: Never\r\n",
      "  backoffLimit: 4\r\n"
     ]
    }
   ],
   "source": [
    "!cat ocroseg-train.yaml"
   ]
  },
  {
   "cell_type": "code",
   "execution_count": 9,
   "metadata": {
    "slideshow": {
     "slide_type": "slide"
    }
   },
   "outputs": [
    {
     "name": "stdout",
     "output_type": "stream",
     "text": [
      "gs://lpr-ocr/_uw3-patches.tgz\r\n",
      "gs://lpr-ocr/uw3-dew-testing.tgz\r\n",
      "gs://lpr-ocr/uw3-dew-training.tgz\r\n",
      "gs://lpr-ocr/uw3-framed-lines-test.tgz\r\n",
      "gs://lpr-ocr/uw3-framed-lines-train.tgz\r\n",
      "gs://lpr-ocr/uw3-framed-lines.tgz\r\n",
      "gs://lpr-ocr/uw3-framed-zones.tgz\r\n",
      "gs://lpr-ocr/uw3-lines-dew.tgz\r\n",
      "gs://lpr-ocr/uw3-lines.tgz\r\n",
      "gs://lpr-ocr/uw3-pages-test.tgz\r\n",
      "gs://lpr-ocr/uw3-pages-train.tgz\r\n",
      "gs://lpr-ocr/uw3-zones.tgz\r\n",
      "gs://lpr-ocr/_uw3-patches/\r\n",
      "gs://lpr-ocr/uw3-lines-old/\r\n"
     ]
    }
   ],
   "source": [
    "!gsutil ls gs://lpr-ocr/ | grep uw3"
   ]
  },
  {
   "cell_type": "code",
   "execution_count": 1,
   "metadata": {
    "slideshow": {
     "slide_type": "slide"
    }
   },
   "outputs": [
    {
     "name": "stdout",
     "output_type": "stream",
     "text": [
      "connecting to: ocroline-train-7fshb\n",
      "Miniconda2-latest-Linux-x86_64.sh  ol-000000665-010886.pt\n",
      "ol-000000005-239618.pt\t\t   ol-000000670-007518.pt\n",
      "ol-000000010-182026.pt\t\t   ol-000000675-007790.pt\n",
      "ol-000000015-119865.pt\t\t   ol-000000680-008311.pt\n",
      "ol-000000020-094170.pt\t\t   ol-000000685-007108.pt\n",
      "ol-000000025-079694.pt\t\t   ol-000000690-010020.pt\n",
      "ol-000000030-048406.pt\t\t   ol-000000695-006404.pt\n",
      "ol-000000035-058577.pt\t\t   ol-000000700-007747.pt\n",
      "ol-000000040-039189.pt\t\t   ol-000000705-007729.pt\n"
     ]
    }
   ],
   "source": [
    "!ku connect ocroline ls | head"
   ]
  },
  {
   "cell_type": "code",
   "execution_count": null,
   "metadata": {},
   "outputs": [],
   "source": []
  }
 ],
 "metadata": {
  "celltoolbar": "Slideshow",
  "kernelspec": {
   "display_name": "Python 2",
   "language": "python",
   "name": "python2"
  },
  "language_info": {
   "codemirror_mode": {
    "name": "ipython",
    "version": 2
   },
   "file_extension": ".py",
   "mimetype": "text/x-python",
   "name": "python",
   "nbconvert_exporter": "python",
   "pygments_lexer": "ipython2",
   "version": "2.7.14"
  }
 },
 "nbformat": 4,
 "nbformat_minor": 2
}
